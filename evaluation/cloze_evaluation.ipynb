{
 "cells": [
  {
   "cell_type": "code",
   "execution_count": 1,
   "metadata": {},
   "outputs": [],
   "source": [
    "import os\n",
    "import tensorflow as tf\n",
    "from dotenv import load_dotenv\n",
    "load_dotenv()\n",
    "\n",
    "# Suppress TensorFlow logging (1 for INFO, 2 for WARN, 3 for ERROR)\n",
    "os.environ['TF_CPP_MIN_LOG_LEVEL'] = '3'\n",
    "\n",
    "# Disable specific TensorFlow warnings (like TensorRT not found)\n",
    "tf.get_logger().setLevel('ERROR')"
   ]
  },
  {
   "cell_type": "code",
   "execution_count": 2,
   "metadata": {},
   "outputs": [
    {
     "name": "stderr",
     "output_type": "stream",
     "text": [
      "/Users/veera/miniconda3/envs/climaqa-eval/lib/python3.11/site-packages/tqdm/auto.py:21: TqdmWarning: IProgress not found. Please update jupyter and ipywidgets. See https://ipywidgets.readthedocs.io/en/stable/user_install.html\n",
      "  from .autonotebook import tqdm as notebook_tqdm\n"
     ]
    }
   ],
   "source": [
    "from datasets import load_dataset\n",
    "\n",
    "dataset = load_dataset('UCSD-GENIE/ClimaQA', data_files=\"climaqa_gold/cloze/cloze_benchmark.csv\")\n",
    "dataset = dataset['train']\n",
    "df = dataset.to_pandas()"
   ]
  },
  {
   "cell_type": "code",
   "execution_count": 3,
   "metadata": {},
   "outputs": [
    {
     "name": "stdout",
     "output_type": "stream",
     "text": [
      "Acid digestion of filter or impactor samples followed by inductively coupled <MASK> analysis can provide concentrations of metals in dust particles for further analysis.\n",
      "Reference Answer: plasma\n",
      "\n",
      "gpt-3.5-turbo: plasma\n",
      "gpt-4o: plasma\n",
      "llama3-70b: plasma\n",
      "mixtral-8x22b: plasma\n",
      "gemma-27b: plasma\n"
     ]
    }
   ],
   "source": [
    "from cloze import cloze_utils\n",
    "from cloze.cloze_agent import ClozeAgent\n",
    "from cloze.cloze_fewshot_agent import ClozeFewShotAgent\n",
    "from cloze.cloze_rag_agent import ClozeRagAgent\n",
    "from llm.openai_llm import OpenAIILLM\n",
    "from llm.together_ai_llm import TogetherAILLM\n",
    "import random\n",
    "\n",
    "ind = random.randint(0,len(df)-1)\n",
    "\n",
    "question = df['Question'][ind]\n",
    "reference_answer = df['Answer'][ind]\n",
    "\n",
    "# Default LLM Agents\n",
    "cloze_agents = [\n",
    "    ClozeAgent(OpenAIILLM('gpt-3.5-turbo')),\n",
    "    ClozeAgent(OpenAIILLM('gpt-4o')),\n",
    "    ClozeAgent(TogetherAILLM('llama3-70b')),\n",
    "    ClozeAgent(TogetherAILLM('mixtral-8x22b')),\n",
    "    ClozeAgent(TogetherAILLM('gemma-27b'))\n",
    "]\n",
    "\n",
    "\n",
    "# LLM Agents that answer with Few-shot prompting\n",
    "# cloze_agents = [\n",
    "#     ClozeFewShotAgent(OpenAIILLM('gpt-3.5-turbo')),\n",
    "#     ClozeFewShotAgent(OpenAIILLM('gpt-4o')),\n",
    "#     ClozeFewShotAgent(TogetherAILLM('llama3-70b')),\n",
    "#     ClozeFewShotAgent(TogetherAILLM('mixtral-8x22b')),\n",
    "#     ClozeFewShotAgent(TogetherAILLM('gemma-27b'))\n",
    "# ]\n",
    "\n",
    "# LLM Agents that answer with RAG prompting. Need to create a chroma vectordb for these to work\n",
    "# cloze_agents = [\n",
    "#     ClozeRagAgent(OpenAIILLM('gpt-3.5-turbo')),\n",
    "#     ClozeRagAgent(OpenAIILLM('gpt-4o')),\n",
    "#     ClozeRagAgent(TogetherAILLM('llama3-70b')),\n",
    "#     ClozeRagAgent(TogetherAILLM('mixtral-8x22b')),\n",
    "#     ClozeRagAgent(TogetherAILLM('gemma-27b'))\n",
    "# ]\n",
    "\n",
    "cloze_utils.get_results_for_question(cloze_agents, question, reference_answer)"
   ]
  },
  {
   "cell_type": "code",
   "execution_count": null,
   "metadata": {},
   "outputs": [],
   "source": [
    "import os\n",
    "\n",
    "result_dir = 'results/cloze'\n",
    "\n",
    "num_trials = 3\n",
    "for i in range(num_trials):\n",
    "    print(f'\\nRunning trial {i+1}\\n')\n",
    "    trial_dir = os.path.join(result_dir, f'trial_{i+1}')\n",
    "    for agent in cloze_agents:\n",
    "        print(f'Answering with {agent.name}')\n",
    "        cloze_utils.generate_and_save_answer(agent, df, trial_dir)"
   ]
  },
  {
   "cell_type": "code",
   "execution_count": null,
   "metadata": {},
   "outputs": [],
   "source": [
    "from cloze import cloze_utils\n",
    "\n",
    "cloze_utils.evaluate_result(result_dir)"
   ]
  }
 ],
 "metadata": {
  "kernelspec": {
   "display_name": "genie",
   "language": "python",
   "name": "python3"
  },
  "language_info": {
   "codemirror_mode": {
    "name": "ipython",
    "version": 3
   },
   "file_extension": ".py",
   "mimetype": "text/x-python",
   "name": "python",
   "nbconvert_exporter": "python",
   "pygments_lexer": "ipython3",
   "version": "3.11.11"
  },
  "orig_nbformat": 4
 },
 "nbformat": 4,
 "nbformat_minor": 2
}
